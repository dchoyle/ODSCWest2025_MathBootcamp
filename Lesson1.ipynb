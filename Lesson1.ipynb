{
 "cells": [
  {
   "cell_type": "markdown",
   "id": "f6c96970",
   "metadata": {},
   "source": [
    "# Lesson 1\n",
    "\n",
    "In this lesson we will practice some of the basic differential calculus and linear algebra that we have recapped in the slides. We will use the NumPy package, so let's import that first."
   ]
  },
  {
   "cell_type": "code",
   "execution_count": 1,
   "id": "d081c264",
   "metadata": {},
   "outputs": [],
   "source": [
    "import numpy as np"
   ]
  },
  {
   "cell_type": "markdown",
   "id": "c215a5d4",
   "metadata": {},
   "source": [
    "# Vectors"
   ]
  },
  {
   "cell_type": "markdown",
   "id": "502f4f93",
   "metadata": {},
   "source": [
    "We'll start with some simple calculations involving vectors. Specifically, we'll do the following:\n",
    "\n",
    "* Calculate the inner product between two vectors\n",
    "* Calculate the outer product between two vectors"
   ]
  },
  {
   "cell_type": "markdown",
   "id": "d12266f7",
   "metadata": {},
   "source": [
    "## Calculating the inner product between two vectors\n",
    "\n",
    "We'll use the in-built function in the numpy package to calculate the inner product between two vectors. The vectors are $\\underline{a} = (1, -4, 0.5)$ and $\\underline{b} = (0, 3.5, 2)$. The inner product between the two vectors is, $$\\underline{a}\\cdot \\underline{b} = (1\\times 0) + (-4 \\times 3.5) + (0.5 \\times 2) = 0 - 14 + 1 = -13$$."
   ]
  },
  {
   "cell_type": "code",
   "execution_count": 2,
   "id": "a8b8c684",
   "metadata": {},
   "outputs": [
    {
     "name": "stdout",
     "output_type": "stream",
     "text": [
      "The inner product is =  -13.0\n"
     ]
    }
   ],
   "source": [
    "# Create the two vectors\n",
    "a = np.array([1.0, -4.0, 0.5])\n",
    "b = np.array([0.0, 3.5, 2.0])\n",
    "\n",
    "# Calculate the inner product\n",
    "# The answer should be = (1*0) + (-4.0*3.5) + (0.5*2.0) = 0 - 14 + 1 = -13\n",
    "print(\"The inner product is = \", np.inner(a,b))"
   ]
  },
  {
   "cell_type": "markdown",
   "id": "f61b3075",
   "metadata": {},
   "source": [
    "We can check that we get the same result if we change the order of the two vectors in the inner product calculation. That is, $\\underline{b} \\cdot \\underline{a} = -13$ as well."
   ]
  },
  {
   "cell_type": "code",
   "execution_count": 3,
   "id": "7779b464",
   "metadata": {},
   "outputs": [
    {
     "name": "stdout",
     "output_type": "stream",
     "text": [
      "The inner product is =  -13.0\n"
     ]
    }
   ],
   "source": [
    "# Calculate the inner product with the order of the vectors interchanged\n",
    "print(\"The inner product is = \", np.inner(b,a))"
   ]
  },
  {
   "cell_type": "markdown",
   "id": "dfa1d51e",
   "metadata": {},
   "source": [
    "## Calculating the outer product between two vectors\n",
    "\n",
    "We'll use the in-built function in the numpy package to calculate the outer product between the same two vectors. The outer product of the two vectors is,\n",
    "\n",
    "$$\\underline{a}\\otimes \\underline{b} = \\begin{pmatrix}\n",
    "1\\times 0 & 1\\times 3.5 & 1\\times 2\\\\\n",
    "-4\\times 0 & -4\\times 3.5 & -4\\times 2\\\\\n",
    "0.5 \\times 0 & 0.5\\times 3.5 & 0.5\\times 2.0\n",
    "\\end{pmatrix} \\;=\\;\n",
    "\\begin{pmatrix}\n",
    "0 & 3.5 & 2 \\\\\n",
    "0 & -14 & -8 \\\\\n",
    "0 & 1.75 & 1\n",
    "\\end{pmatrix}\n",
    "$$"
   ]
  },
  {
   "cell_type": "code",
   "execution_count": 4,
   "id": "bd150b64",
   "metadata": {},
   "outputs": [
    {
     "data": {
      "text/plain": [
       "array([[  0.  ,   3.5 ,   2.  ],\n",
       "       [ -0.  , -14.  ,  -8.  ],\n",
       "       [  0.  ,   1.75,   1.  ]])"
      ]
     },
     "execution_count": 4,
     "metadata": {},
     "output_type": "execute_result"
    }
   ],
   "source": [
    "# Create the two vectors.\n",
    "# We'll use the same vectors as in the previous example\n",
    "a = np.array([1.0, -4.0, 0.5])\n",
    "b = np.array([0.0, 3.5, 2.0])\n",
    "\n",
    "# Calculate the outer product\n",
    "# The answer should be a 3x3 array of the form \n",
    "# [[1*0, 1*3.5, 1*2], [-4*0, -4*3.5, -4*2], [0.5*0, 0.5*3.5, 0.5*2]]\n",
    "# which gives [[0, 3.5, 2], [0, -14, -8], [0, 1.75, 1]]\n",
    "np.outer(a,b)"
   ]
  },
  {
   "cell_type": "markdown",
   "id": "fc038138",
   "metadata": {},
   "source": [
    "If we change the order of the two vectors in the outer prodoct calculation we will get a different result. We will get,\n",
    "$$\\underline{b}\\otimes\\underline{a} = \\begin{pmatrix}\n",
    "0\\times 1 & 0\\times -4 & 0\\times 0.5\\\\\n",
    "3.5\\times 1 & 3.5\\times -4 & 3.5\\times 0.5\\\\\n",
    "2 \\times 1 & 2\\times -4 & 2\\times 0.5\n",
    "\\end{pmatrix} \\;=\\;\n",
    "\\begin{pmatrix}\n",
    "0 & 0 & 0 \\\\\n",
    "3.5 & -14 & 1.75 \\\\\n",
    "2 & -8 & 1\n",
    "\\end{pmatrix}\n",
    "$$\n",
    "\n",
    "Let's check."
   ]
  },
  {
   "cell_type": "code",
   "execution_count": 5,
   "id": "3355540d",
   "metadata": {},
   "outputs": [
    {
     "data": {
      "text/plain": [
       "array([[  0.  ,  -0.  ,   0.  ],\n",
       "       [  3.5 , -14.  ,   1.75],\n",
       "       [  2.  ,  -8.  ,   1.  ]])"
      ]
     },
     "execution_count": 5,
     "metadata": {},
     "output_type": "execute_result"
    }
   ],
   "source": [
    "# Calculate the outer product but with the order of the two vectors changed.\n",
    "np.outer(b,a)"
   ]
  },
  {
   "cell_type": "markdown",
   "id": "46c6029f",
   "metadata": {},
   "source": [
    "# Matrices"
   ]
  },
  {
   "cell_type": "markdown",
   "id": "ca1558d2",
   "metadata": {},
   "source": [
    "Next we'll do some simple calculations involving matrices. Specifically, we'll do the following:\n",
    "\n",
    "* Transpose a matrix\n",
    "* Multiply matrices together\n",
    "* Multiply a vector by a matrix\n",
    "* Calculate the inverse of a square matrix\n",
    "* Construct the identity matrix"
   ]
  },
  {
   "cell_type": "markdown",
   "id": "bda89dbc",
   "metadata": {},
   "source": [
    "## Taking the transpose of a matrix"
   ]
  },
  {
   "cell_type": "code",
   "execution_count": 6,
   "id": "7078fe0c",
   "metadata": {},
   "outputs": [],
   "source": [
    "# Create a 3x3 matrix\n",
    "A = np.array([[1.0, 2.0, 1.0], [-2.5, 1.0, 0.0], [3.0, 1.0, 1.5]])"
   ]
  },
  {
   "cell_type": "code",
   "execution_count": 7,
   "id": "2847dc89",
   "metadata": {},
   "outputs": [
    {
     "data": {
      "text/plain": [
       "array([[ 1. ,  2. ,  1. ],\n",
       "       [-2.5,  1. ,  0. ],\n",
       "       [ 3. ,  1. ,  1.5]])"
      ]
     },
     "execution_count": 7,
     "metadata": {},
     "output_type": "execute_result"
    }
   ],
   "source": [
    "# Let's look at the matrix\n",
    "A"
   ]
  },
  {
   "cell_type": "markdown",
   "id": "34284cf8",
   "metadata": {},
   "source": [
    "Now we can use numpy.transpose to return the transpose of the matrix $\\underline{\\underline{A}}$."
   ]
  },
  {
   "cell_type": "code",
   "execution_count": 8,
   "id": "dd6a6136",
   "metadata": {},
   "outputs": [
    {
     "data": {
      "text/plain": [
       "array([[ 1. , -2.5,  3. ],\n",
       "       [ 2. ,  1. ,  1. ],\n",
       "       [ 1. ,  0. ,  1.5]])"
      ]
     },
     "execution_count": 8,
     "metadata": {},
     "output_type": "execute_result"
    }
   ],
   "source": [
    "# Return the transpose of A using np.transpose(A)\n",
    "np.transpose(A)"
   ]
  },
  {
   "cell_type": "markdown",
   "id": "7be28a3b",
   "metadata": {},
   "source": [
    "## Multiplying two matrices together\n",
    "\n",
    "We'll use the in-built function in the numpy package to multiply two matrices together"
   ]
  },
  {
   "cell_type": "code",
   "execution_count": 9,
   "id": "348d3b0a",
   "metadata": {},
   "outputs": [
    {
     "data": {
      "text/plain": [
       "array([[14. ,  4. ,  7. ],\n",
       "       [ 2.5,  4.5,  5.5],\n",
       "       [12.5,  0.5,  3. ]])"
      ]
     },
     "execution_count": 9,
     "metadata": {},
     "output_type": "execute_result"
    }
   ],
   "source": [
    "# Create another 3x3 matrix\n",
    "B = np.array([[1.0, -1.0, -1.0], [5, 2.0, 3.0], [3.0, 1.0, 2.0]])\n",
    "\n",
    "# Mulitply the matrices together\n",
    "np.matmul(A, B)"
   ]
  },
  {
   "cell_type": "markdown",
   "id": "136cb45d",
   "metadata": {},
   "source": [
    "We can multiply the matrices together in the other order, i.e., we can calculate $\\underline{\\underline{B}}\\,\\underline{\\underline{A}}$. We will get a different result to $\\underline{\\underline{A}}\\,\\underline{\\underline{B}}$. Let's check."
   ]
  },
  {
   "cell_type": "code",
   "execution_count": 10,
   "id": "697f21e9",
   "metadata": {},
   "outputs": [
    {
     "data": {
      "text/plain": [
       "array([[ 0.5,  0. , -0.5],\n",
       "       [ 9. , 15. ,  9.5],\n",
       "       [ 6.5,  9. ,  6. ]])"
      ]
     },
     "execution_count": 10,
     "metadata": {},
     "output_type": "execute_result"
    }
   ],
   "source": [
    "# Mulitply the matrices together in the other order\n",
    "np.matmul(B, A)"
   ]
  },
  {
   "cell_type": "markdown",
   "id": "932820f7",
   "metadata": {},
   "source": [
    "## Multiply a vector by a matrix\n",
    "\n",
    "We'll use the in-built functions in the numpy package to multiply a vector by a matrix"
   ]
  },
  {
   "cell_type": "code",
   "execution_count": 11,
   "id": "85c5be74",
   "metadata": {},
   "outputs": [
    {
     "data": {
      "text/plain": [
       "array([ 1. ,  1.5, -3. ])"
      ]
     },
     "execution_count": 11,
     "metadata": {},
     "output_type": "execute_result"
    }
   ],
   "source": [
    "# Create a 4-dimensional vector\n",
    "a = np.array([1.0, 2.0, 3.0, -2.0])\n",
    "\n",
    "# Create a 3x4 matrix\n",
    "A = np.array([[1.0, 1.0, 0.0, 1.0], [-2.0, 2.5, 1.5, 3.0], [0.0, 1.0, 1.0, 4.0]])\n",
    "\n",
    "# We'll use the matrix multiplication function to calculate A*a\n",
    "np.matmul(A, a)"
   ]
  },
  {
   "cell_type": "code",
   "execution_count": 12,
   "id": "0f5e0ad9",
   "metadata": {},
   "outputs": [
    {
     "data": {
      "text/plain": [
       "array([-3.,  9.,  6., 19.])"
      ]
     },
     "execution_count": 12,
     "metadata": {},
     "output_type": "execute_result"
    }
   ],
   "source": [
    "# We'll now create a 3-dimensional vector b \n",
    "# and calculate b*A\n",
    "b = np.array([1.0, 2.0, 3.0])\n",
    "\n",
    "np.matmul(b, A)"
   ]
  },
  {
   "cell_type": "markdown",
   "id": "449352d2",
   "metadata": {},
   "source": [
    "## Calculating inverse of a square matrix\n",
    "\n",
    "We'll use the in-built NumPy function to calculate the inverse of a square matrix. The function we use is numpy.linalg.inv"
   ]
  },
  {
   "cell_type": "code",
   "execution_count": 13,
   "id": "29291cb5",
   "metadata": {},
   "outputs": [
    {
     "data": {
      "text/plain": [
       "array([[-5.00000000e-01, -1.11022302e-16, -5.00000000e-01,\n",
       "         1.50000000e+00],\n",
       "       [ 2.50000000e+00,  2.00000000e+00,  5.00000000e-01,\n",
       "        -6.50000000e+00],\n",
       "       [-5.00000000e-01,  6.66133815e-17,  5.00000000e-01,\n",
       "         5.00000000e-01],\n",
       "       [-5.00000000e-01, -1.00000000e+00, -5.00000000e-01,\n",
       "         2.50000000e+00]])"
      ]
     },
     "execution_count": 13,
     "metadata": {},
     "output_type": "execute_result"
    }
   ],
   "source": [
    "# Create a 4x4 square matrix\n",
    "A = np.array( [[1, 2, 3, 4],\n",
    "               [2, 1, 2, 1],\n",
    "               [0, 1, 3, 2],\n",
    "               [1, 1, 2, 2]])\n",
    "\n",
    "# Calculate the inverse matrix\n",
    "np.linalg.inv(A)"
   ]
  },
  {
   "cell_type": "markdown",
   "id": "c182fb77",
   "metadata": {},
   "source": [
    "Now we need to check that this NumPy function does calculate the inverse matrix correctly. We can check that by multiplying the matrix $\\underline{\\underline{A}}$ by its inverse that we just calculated. We should get the identity matrix $\\underline{\\underline{I}}_{4}$ back. Let's check."
   ]
  },
  {
   "cell_type": "code",
   "execution_count": 14,
   "id": "a034cf6b",
   "metadata": {},
   "outputs": [
    {
     "data": {
      "text/plain": [
       "array([[ 1.00000000e+00, -2.22044605e-16, -4.44089210e-16,\n",
       "         0.00000000e+00],\n",
       "       [ 0.00000000e+00,  1.00000000e+00,  0.00000000e+00,\n",
       "         0.00000000e+00],\n",
       "       [-5.55111512e-17, -5.55111512e-17,  1.00000000e+00,\n",
       "        -1.11022302e-16],\n",
       "       [ 5.55111512e-17,  0.00000000e+00,  0.00000000e+00,\n",
       "         1.00000000e+00]])"
      ]
     },
     "execution_count": 14,
     "metadata": {},
     "output_type": "execute_result"
    }
   ],
   "source": [
    "# We'll check that we do get the inverse of A\n",
    "\n",
    "# Store the inverse matrix\n",
    "Ainv = np.linalg.inv(A)\n",
    "\n",
    "# Multiply the matrix by its inverse.\n",
    "# We should get the identity matrix [[1,0,0,0], [0,1,0,0], [0,0,1,0], [0,0,0,1]]\n",
    "# up to numerical precision\n",
    "np.matmul(Ainv, A)"
   ]
  },
  {
   "cell_type": "markdown",
   "id": "541e3a14",
   "metadata": {},
   "source": [
    "The result above gives a 4x4 matrix with 1 on the diagonal elements and zero on the off-diagonal elements. Some of the off-diagonal elements are of the form Ce-16. This means they are zero to within machine precision. The reason we don't get zero precisely is because we are doing multiplication of floating point numbers and so we will always get errors at machine precision order.\n",
    "\n",
    "We have just checked that when we use our numerical calculation of $\\underline{\\underline{A}}^{-1}$ (from NumPy) in the calculation $\\underline{\\underline{A}}^{-1}\\underline{\\underline{A}}$ we get the result $\\underline{\\underline{I}}$. We should also check that the calculation $\\underline{\\underline{A}}\\,\\underline{\\underline{A}}^{-1}$ also gives $\\underline{\\underline{I}}$."
   ]
  },
  {
   "cell_type": "code",
   "execution_count": 15,
   "id": "ed35afd7",
   "metadata": {},
   "outputs": [
    {
     "data": {
      "text/plain": [
       "array([[ 1.00000000e+00,  8.88178420e-17,  0.00000000e+00,\n",
       "        -4.44089210e-16],\n",
       "       [ 0.00000000e+00,  1.00000000e+00,  0.00000000e+00,\n",
       "         0.00000000e+00],\n",
       "       [ 2.22044605e-16,  1.99840144e-16,  1.00000000e+00,\n",
       "        -6.66133815e-16],\n",
       "       [ 0.00000000e+00,  2.22044605e-17,  0.00000000e+00,\n",
       "         1.00000000e+00]])"
      ]
     },
     "execution_count": 15,
     "metadata": {},
     "output_type": "execute_result"
    }
   ],
   "source": [
    "# Also check when we multiply the inverse by the original matrix\n",
    "# that we also get the identity matrix\n",
    "np.matmul( A, Ainv)"
   ]
  },
  {
   "cell_type": "markdown",
   "id": "95d31454",
   "metadata": {},
   "source": [
    "## The Identity matrix\n",
    "\n",
    "We have already produced the identity matrix from the calculation $\\underline{\\underline{A}}^{-1}\\underline{\\underline{A}}$. However, NumPy has some useful built in functions for creating identity matrices when we need them."
   ]
  },
  {
   "cell_type": "markdown",
   "id": "33a696d1",
   "metadata": {},
   "source": [
    "The numpy.identity function creates the identity matrix explicitly for us."
   ]
  },
  {
   "cell_type": "code",
   "execution_count": 16,
   "id": "448ce0e0",
   "metadata": {},
   "outputs": [
    {
     "data": {
      "text/plain": [
       "array([[1., 0., 0., 0.],\n",
       "       [0., 1., 0., 0.],\n",
       "       [0., 0., 1., 0.],\n",
       "       [0., 0., 0., 1.]])"
      ]
     },
     "execution_count": 16,
     "metadata": {},
     "output_type": "execute_result"
    }
   ],
   "source": [
    "# Use numpy.identity to create a 4x4 identity matrix\n",
    "np.identity(4)"
   ]
  },
  {
   "cell_type": "markdown",
   "id": "9fe9c657",
   "metadata": {},
   "source": [
    "The numpy.eye function creates a matrix with 1s on the diagonal elements and zero everywhere else. The matrix can be non-square (passing two integers as arguments to the function). If only one shape integer is passed to the function, numpy.eye will by default create a square matrix."
   ]
  },
  {
   "cell_type": "code",
   "execution_count": 17,
   "id": "c01f352e",
   "metadata": {},
   "outputs": [
    {
     "data": {
      "text/plain": [
       "array([[1., 0., 0., 0.],\n",
       "       [0., 1., 0., 0.],\n",
       "       [0., 0., 1., 0.],\n",
       "       [0., 0., 0., 1.]])"
      ]
     },
     "execution_count": 17,
     "metadata": {},
     "output_type": "execute_result"
    }
   ],
   "source": [
    "# Use numpy.eye to create a 4x4 identity matrix\n",
    "np.eye(4)"
   ]
  },
  {
   "cell_type": "markdown",
   "id": "3c2cd004",
   "metadata": {},
   "source": [
    "The numpy.diag function creates a square diagonal matrix matrix from the elements of the vector passed to it. It has zeros for the off-diagonal elements. So if we pass numpy.diag a vector of all 1s, we will get a square matrix with 1s on the diagonal elements and 0s everywhere else. We can use the function numpy.ones to create a vector of 1s for us. "
   ]
  },
  {
   "cell_type": "code",
   "execution_count": 18,
   "id": "99543fcb",
   "metadata": {},
   "outputs": [
    {
     "data": {
      "text/plain": [
       "array([[1., 0., 0., 0.],\n",
       "       [0., 1., 0., 0.],\n",
       "       [0., 0., 1., 0.],\n",
       "       [0., 0., 0., 1.]])"
      ]
     },
     "execution_count": 18,
     "metadata": {},
     "output_type": "execute_result"
    }
   ],
   "source": [
    "# Use numpy.diag to create a 4 x4 identity matrix\n",
    "np.diag(np.ones(4))"
   ]
  },
  {
   "cell_type": "code",
   "execution_count": null,
   "id": "d7159bca-80b8-4f52-bf77-86c74a6fa266",
   "metadata": {},
   "outputs": [],
   "source": []
  }
 ],
 "metadata": {
  "kernelspec": {
   "display_name": "Python [conda env:base] *",
   "language": "python",
   "name": "conda-base-py"
  },
  "language_info": {
   "codemirror_mode": {
    "name": "ipython",
    "version": 3
   },
   "file_extension": ".py",
   "mimetype": "text/x-python",
   "name": "python",
   "nbconvert_exporter": "python",
   "pygments_lexer": "ipython3",
   "version": "3.12.7"
  }
 },
 "nbformat": 4,
 "nbformat_minor": 5
}
