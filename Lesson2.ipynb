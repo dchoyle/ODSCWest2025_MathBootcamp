{
 "cells": [
  {
   "cell_type": "markdown",
   "id": "f6a6002f",
   "metadata": {},
   "source": [
    "# Lesson 2\n",
    "\n",
    "In this lesson we will use all the calculus and linear algebra we learnt in Lesson 1 and use it build a simple linear model. To do that we'll need some data. So first, we'll import the packages we'll need and the first dataset we're going to be working with."
   ]
  },
  {
   "cell_type": "code",
   "execution_count": 1,
   "id": "d081c264",
   "metadata": {},
   "outputs": [],
   "source": [
    "import pandas as pd\n",
    "import numpy as np\n",
    "import matplotlib.pyplot as plt\n",
    "import statsmodels.formula.api as smf"
   ]
  },
  {
   "cell_type": "markdown",
   "id": "634ad829",
   "metadata": {},
   "source": [
    "# OLS Regression"
   ]
  },
  {
   "cell_type": "markdown",
   "id": "30cf8771",
   "metadata": {},
   "source": [
    "## Power plant output dataset - exploratory data analysis\n",
    "\n",
    "The data in the file power_plant_output.csv in the github repository contains measurements of the power output from electricity generation plants. The power (PE) is generated from a combination of gas turbines, steam turbines, and heat recovery steam generators, and so is affected by environmental factors in which the turbines operate, such as the ambient temperature (AT) and the steam turbine exhaust vacuum level (V). The dataset consists of 9568 observations of the PE, AT and V values. The data is a subset of the publicly available dataset held in the [UCI Machine Learning Repository](https://archive.ics.uci.edu/ml/index.php). The original data can be found at [Combined Cycle Power Plant Data Set](https://archive.ics.uci.edu/ml/datasets/Combined+Cycle+Power+Plant). "
   ]
  },
  {
   "cell_type": "code",
   "execution_count": 2,
   "id": "8731a255",
   "metadata": {},
   "outputs": [],
   "source": [
    "# Read in the raw data\n",
    "df = pd.read_csv(\"./power_plant_output.csv\")"
   ]
  },
  {
   "cell_type": "markdown",
   "id": "f6f40476",
   "metadata": {},
   "source": [
    "We'll take a quick look at the data. First we'll look at a few rows of data"
   ]
  },
  {
   "cell_type": "code",
   "execution_count": 3,
   "id": "3cf6cba2",
   "metadata": {},
   "outputs": [
    {
     "data": {
      "text/html": [
       "<div>\n",
       "<style scoped>\n",
       "    .dataframe tbody tr th:only-of-type {\n",
       "        vertical-align: middle;\n",
       "    }\n",
       "\n",
       "    .dataframe tbody tr th {\n",
       "        vertical-align: top;\n",
       "    }\n",
       "\n",
       "    .dataframe thead th {\n",
       "        text-align: right;\n",
       "    }\n",
       "</style>\n",
       "<table border=\"1\" class=\"dataframe\">\n",
       "  <thead>\n",
       "    <tr style=\"text-align: right;\">\n",
       "      <th></th>\n",
       "      <th>AT</th>\n",
       "      <th>V</th>\n",
       "      <th>PE</th>\n",
       "    </tr>\n",
       "  </thead>\n",
       "  <tbody>\n",
       "    <tr>\n",
       "      <th>0</th>\n",
       "      <td>14.96</td>\n",
       "      <td>41.76</td>\n",
       "      <td>463.26</td>\n",
       "    </tr>\n",
       "    <tr>\n",
       "      <th>1</th>\n",
       "      <td>25.18</td>\n",
       "      <td>62.96</td>\n",
       "      <td>444.37</td>\n",
       "    </tr>\n",
       "    <tr>\n",
       "      <th>2</th>\n",
       "      <td>5.11</td>\n",
       "      <td>39.40</td>\n",
       "      <td>488.56</td>\n",
       "    </tr>\n",
       "    <tr>\n",
       "      <th>3</th>\n",
       "      <td>20.86</td>\n",
       "      <td>57.32</td>\n",
       "      <td>446.48</td>\n",
       "    </tr>\n",
       "    <tr>\n",
       "      <th>4</th>\n",
       "      <td>10.82</td>\n",
       "      <td>37.50</td>\n",
       "      <td>473.90</td>\n",
       "    </tr>\n",
       "    <tr>\n",
       "      <th>5</th>\n",
       "      <td>26.27</td>\n",
       "      <td>59.44</td>\n",
       "      <td>443.67</td>\n",
       "    </tr>\n",
       "    <tr>\n",
       "      <th>6</th>\n",
       "      <td>15.89</td>\n",
       "      <td>43.96</td>\n",
       "      <td>467.35</td>\n",
       "    </tr>\n",
       "    <tr>\n",
       "      <th>7</th>\n",
       "      <td>9.48</td>\n",
       "      <td>44.71</td>\n",
       "      <td>478.42</td>\n",
       "    </tr>\n",
       "    <tr>\n",
       "      <th>8</th>\n",
       "      <td>14.64</td>\n",
       "      <td>45.00</td>\n",
       "      <td>475.98</td>\n",
       "    </tr>\n",
       "    <tr>\n",
       "      <th>9</th>\n",
       "      <td>11.74</td>\n",
       "      <td>43.56</td>\n",
       "      <td>477.50</td>\n",
       "    </tr>\n",
       "  </tbody>\n",
       "</table>\n",
       "</div>"
      ],
      "text/plain": [
       "      AT      V      PE\n",
       "0  14.96  41.76  463.26\n",
       "1  25.18  62.96  444.37\n",
       "2   5.11  39.40  488.56\n",
       "3  20.86  57.32  446.48\n",
       "4  10.82  37.50  473.90\n",
       "5  26.27  59.44  443.67\n",
       "6  15.89  43.96  467.35\n",
       "7   9.48  44.71  478.42\n",
       "8  14.64  45.00  475.98\n",
       "9  11.74  43.56  477.50"
      ]
     },
     "execution_count": 3,
     "metadata": {},
     "output_type": "execute_result"
    }
   ],
   "source": [
    "# Look at the first 10 rows\n",
    "df.head(10)"
   ]
  },
  {
   "cell_type": "markdown",
   "id": "9129db90",
   "metadata": {},
   "source": [
    "Next we'll look at summary statistics for the data. We'll use the pandas in-built describe function for this."
   ]
  },
  {
   "cell_type": "code",
   "execution_count": 4,
   "id": "bcd3d904",
   "metadata": {},
   "outputs": [
    {
     "data": {
      "text/html": [
       "<div>\n",
       "<style scoped>\n",
       "    .dataframe tbody tr th:only-of-type {\n",
       "        vertical-align: middle;\n",
       "    }\n",
       "\n",
       "    .dataframe tbody tr th {\n",
       "        vertical-align: top;\n",
       "    }\n",
       "\n",
       "    .dataframe thead th {\n",
       "        text-align: right;\n",
       "    }\n",
       "</style>\n",
       "<table border=\"1\" class=\"dataframe\">\n",
       "  <thead>\n",
       "    <tr style=\"text-align: right;\">\n",
       "      <th></th>\n",
       "      <th>AT</th>\n",
       "      <th>V</th>\n",
       "      <th>PE</th>\n",
       "    </tr>\n",
       "  </thead>\n",
       "  <tbody>\n",
       "    <tr>\n",
       "      <th>count</th>\n",
       "      <td>9568.000000</td>\n",
       "      <td>9568.000000</td>\n",
       "      <td>9568.000000</td>\n",
       "    </tr>\n",
       "    <tr>\n",
       "      <th>mean</th>\n",
       "      <td>19.651231</td>\n",
       "      <td>54.305804</td>\n",
       "      <td>454.365009</td>\n",
       "    </tr>\n",
       "    <tr>\n",
       "      <th>std</th>\n",
       "      <td>7.452473</td>\n",
       "      <td>12.707893</td>\n",
       "      <td>17.066995</td>\n",
       "    </tr>\n",
       "    <tr>\n",
       "      <th>min</th>\n",
       "      <td>1.810000</td>\n",
       "      <td>25.360000</td>\n",
       "      <td>420.260000</td>\n",
       "    </tr>\n",
       "    <tr>\n",
       "      <th>25%</th>\n",
       "      <td>13.510000</td>\n",
       "      <td>41.740000</td>\n",
       "      <td>439.750000</td>\n",
       "    </tr>\n",
       "    <tr>\n",
       "      <th>50%</th>\n",
       "      <td>20.345000</td>\n",
       "      <td>52.080000</td>\n",
       "      <td>451.550000</td>\n",
       "    </tr>\n",
       "    <tr>\n",
       "      <th>75%</th>\n",
       "      <td>25.720000</td>\n",
       "      <td>66.540000</td>\n",
       "      <td>468.430000</td>\n",
       "    </tr>\n",
       "    <tr>\n",
       "      <th>max</th>\n",
       "      <td>37.110000</td>\n",
       "      <td>81.560000</td>\n",
       "      <td>495.760000</td>\n",
       "    </tr>\n",
       "  </tbody>\n",
       "</table>\n",
       "</div>"
      ],
      "text/plain": [
       "                AT            V           PE\n",
       "count  9568.000000  9568.000000  9568.000000\n",
       "mean     19.651231    54.305804   454.365009\n",
       "std       7.452473    12.707893    17.066995\n",
       "min       1.810000    25.360000   420.260000\n",
       "25%      13.510000    41.740000   439.750000\n",
       "50%      20.345000    52.080000   451.550000\n",
       "75%      25.720000    66.540000   468.430000\n",
       "max      37.110000    81.560000   495.760000"
      ]
     },
     "execution_count": 4,
     "metadata": {},
     "output_type": "execute_result"
    }
   ],
   "source": [
    "# Use pd.describe() to get the summary statistics of the data\n",
    "df.describe()"
   ]
  },
  {
   "cell_type": "markdown",
   "id": "1e8fcc09",
   "metadata": {},
   "source": [
    "We'll check to see if any of the columns have missing values"
   ]
  },
  {
   "cell_type": "code",
   "execution_count": 5,
   "id": "4fd86faa",
   "metadata": {},
   "outputs": [
    {
     "data": {
      "text/plain": [
       "AT    0\n",
       "V     0\n",
       "PE    0\n",
       "dtype: int64"
      ]
     },
     "execution_count": 5,
     "metadata": {},
     "output_type": "execute_result"
    }
   ],
   "source": [
    "df.isna().sum(axis = 0)"
   ]
  },
  {
   "cell_type": "markdown",
   "id": "a5944eb8",
   "metadata": {},
   "source": [
    "Next we'll do a quick visual inspection of the relationships between the response variable, PE, and the various features. We'll do that simply through a series of scatter plots."
   ]
  },
  {
   "cell_type": "code",
   "execution_count": 6,
   "id": "dd369163",
   "metadata": {},
   "outputs": [
    {
     "data": {
      "image/png": "[encoded data removed]",
      "text/plain": [
       "<Figure size 640x480 with 1 Axes>"
      ]
     },
     "metadata": {},
     "output_type": "display_data"
    }
   ],
   "source": [
    "# Scatterplot between the response variable PE and the AT feature.\n",
    "# The linear relationship is clear.\n",
    "plt.scatter(df.AT, df.PE)\n",
    "plt.title('PE vs AT', fontsize=24)\n",
    "plt.xlabel('AT', fontsize=20)\n",
    "plt.ylabel('PE', fontsize=20)\n",
    "plt.xticks(fontsize=18)\n",
    "plt.yticks(fontsize=18)\n",
    "plt.show()"
   ]
  },
  {
   "cell_type": "code",
   "execution_count": 7,
   "id": "e1663679",
   "metadata": {},
   "outputs": [
    {
     "data": {
      "image/png": "[encoded data removed]",
      "text/plain": [
       "<Figure size 640x480 with 1 Axes>"
      ]
     },
     "metadata": {},
     "output_type": "display_data"
    }
   ],
   "source": [
    "# Scatterplot between the response variable PE and the V feature.\n",
    "# The linear relationship is clear, but not as strong as the relationship with the AT feature.\n",
    "plt.scatter(df.V, df.PE)\n",
    "plt.title('PE vs V', fontsize=24)\n",
    "plt.xlabel('V', fontsize=20)\n",
    "plt.ylabel('PE', fontsize=20)\n",
    "plt.xticks(fontsize=18)\n",
    "plt.yticks(fontsize=18)\n",
    "plt.show()"
   ]
  },
  {
   "cell_type": "markdown",
   "id": "a8d4d52e",
   "metadata": {},
   "source": [
    "## OLS regression via direction solution"
   ]
  },
  {
   "cell_type": "markdown",
   "id": "549506b2",
   "metadata": {},
   "source": [
    "We'll build a linear model of the PE response variable, using both features (AT, V). The model we are fitting has the form $PE = \\beta_{0} + \\beta_{AT}AT + \\beta_{V}V$. We'll do the OLS fitting explicitly using the matrix operations outlined in the slides. We'll make use of the linear algebra functions of NumPy. First we need to extract the design matrix and vector of response values from the pandas dataframe."
   ]
  },
  {
   "cell_type": "code",
   "execution_count": 8,
   "id": "0b152cae",
   "metadata": {},
   "outputs": [],
   "source": [
    "# We extract the design matrix as a 2D numpy array. This initially corresponds to the feature columns of the dataframe.\n",
    "# In this case it is all but the last column\n",
    "X = df.iloc[:, 0:(df.shape[1]-1)].to_numpy()"
   ]
  },
  {
   "cell_type": "code",
   "execution_count": 9,
   "id": "f29de005",
   "metadata": {},
   "outputs": [],
   "source": [
    "# Now we'll add a column of ones to the design matrix.\n",
    "# This is the feature that corresponds to the intercept parameter in the moddel\n",
    "X = np.c_[np.ones(X.shape[0]), X]"
   ]
  },
  {
   "cell_type": "code",
   "execution_count": 10,
   "id": "53ecdae2",
   "metadata": {},
   "outputs": [],
   "source": [
    "# For convenience, we'll create and store the transpose of the design matrix\n",
    "xT = np.transpose(X)"
   ]
  },
  {
   "cell_type": "code",
   "execution_count": 11,
   "id": "0862f977",
   "metadata": {},
   "outputs": [],
   "source": [
    "# Now we'll extract the response vector to a numpy array\n",
    "y = df.iloc[:, df.shape[1]-1].to_numpy()"
   ]
  },
  {
   "cell_type": "markdown",
   "id": "9ea1b333",
   "metadata": {},
   "source": [
    "Now we can calculate the OLS parameter values using the formula $\\hat{\\underline{\\beta}} = \\left ( \\underline{\\underline{X}}^{\\top} \\underline{\\underline{X}}\\right )^{-1} \\underline{\\underline{X}}^{\\top} \\underline{y}$"
   ]
  },
  {
   "cell_type": "code",
   "execution_count": 12,
   "id": "9188eea9",
   "metadata": {},
   "outputs": [],
   "source": [
    "# Calculate the inverse of xTx using the numpy linear algebra functions\n",
    "xTx_inv = np.linalg.inv(np.matmul(xT, X))"
   ]
  },
  {
   "cell_type": "code",
   "execution_count": 13,
   "id": "974672cc",
   "metadata": {},
   "outputs": [],
   "source": [
    "# Finally calculate the OLS model parameter estimates using the formula (xTx_inv)*(xT*y).\n",
    "# Again, we use the numpy linear algebra functions to do this\n",
    "ols_params = np.matmul(xTx_inv, np.matmul(xT, y))"
   ]
  },
  {
   "cell_type": "markdown",
   "id": "dba96fd0",
   "metadata": {},
   "source": [
    "We can take a look at the estimated model parameters"
   ]
  },
  {
   "cell_type": "code",
   "execution_count": 14,
   "id": "2b21be03",
   "metadata": {},
   "outputs": [
    {
     "data": {
      "text/plain": [
       "array([ 5.05477434e+02, -1.70426591e+00, -3.24486516e-01])"
      ]
     },
     "execution_count": 14,
     "metadata": {},
     "output_type": "execute_result"
    }
   ],
   "source": [
    "ols_params"
   ]
  },
  {
   "cell_type": "markdown",
   "id": "42c692c4",
   "metadata": {},
   "source": [
    "We can see that the estimated intercept is approximately 505, whilst both the effect of the AT and V variable are negative, i.e. they reduce the power output. This is as expected from our initial plots of the data."
   ]
  },
  {
   "cell_type": "markdown",
   "id": "1eb7cef1",
   "metadata": {},
   "source": [
    "## OLS regression via statsmodels package\n",
    "\n",
    "Now we'll repeat the model fitting, but we'll use the statsmodels package to do the OLS regression for us directly. We'lluse the statsmodels formula interface. This is because the statistical formula we specifiy is close in form to the mathematical form we would write down on paper, whilst for the standard interface to statsmodels it is less clear how the mathematical formula manifests itself in the code. The statistical formula is $PE\\;\\sim\\; AT + V$. For now we don't worry about the meaning of the symbol $\\sim$. For now, we can think of this as the statistical formula equivalent of writing the mathematical formula $PE = \\beta_{0} + \\beta_{AT}AT + \\beta_{V}V$. Note that in the statistical formula it looks like we have forgotten about the intercept. Fear not, the statistical model form will automatically assume we want an intercept included in our model and will add it for us, so we don't need to explicitly specify one in the statistical formula.\n",
    "\n",
    "We'll use the statsmodels.formula.api.ols function to create and fit our OLS model."
   ]
  },
  {
   "cell_type": "code",
   "execution_count": 15,
   "id": "160ba809",
   "metadata": {},
   "outputs": [],
   "source": [
    "# First we specify the model using statsmodels.formula.api.ols\n",
    "model = smf.ols(formula='PE ~ AT + V', data=df)"
   ]
  },
  {
   "cell_type": "code",
   "execution_count": 16,
   "id": "451c36d7",
   "metadata": {},
   "outputs": [],
   "source": [
    "# Now we fit the model to the data, i.e. we minimize the sum-of-squared residuals with respect to the model parameters\n",
    "model_result = model.fit()"
   ]
  },
  {
   "cell_type": "code",
   "execution_count": 17,
   "id": "bedb47e0",
   "metadata": {},
   "outputs": [
    {
     "data": {
      "text/html": [
       "<table class=\"simpletable\">\n",
       "<caption>OLS Regression Results</caption>\n",
       "<tr>\n",
       "  <th>Dep. Variable:</th>           <td>PE</td>        <th>  R-squared:         </th> <td>   0.916</td> \n",
       "</tr>\n",
       "<tr>\n",
       "  <th>Model:</th>                   <td>OLS</td>       <th>  Adj. R-squared:    </th> <td>   0.916</td> \n",
       "</tr>\n",
       "<tr>\n",
       "  <th>Method:</th>             <td>Least Squares</td>  <th>  F-statistic:       </th> <td>5.197e+04</td>\n",
       "</tr>\n",
       "<tr>\n",
       "  <th>Date:</th>             <td>Mon, 27 Oct 2025</td> <th>  Prob (F-statistic):</th>  <td>  0.00</td>  \n",
       "</tr>\n",
       "<tr>\n",
       "  <th>Time:</th>                 <td>08:32:07</td>     <th>  Log-Likelihood:    </th> <td> -28887.</td> \n",
       "</tr>\n",
       "<tr>\n",
       "  <th>No. Observations:</th>      <td>  9568</td>      <th>  AIC:               </th> <td>5.778e+04</td>\n",
       "</tr>\n",
       "<tr>\n",
       "  <th>Df Residuals:</th>          <td>  9565</td>      <th>  BIC:               </th> <td>5.780e+04</td>\n",
       "</tr>\n",
       "<tr>\n",
       "  <th>Df Model:</th>              <td>     2</td>      <th>                     </th>     <td> </td>    \n",
       "</tr>\n",
       "<tr>\n",
       "  <th>Covariance Type:</th>      <td>nonrobust</td>    <th>                     </th>     <td> </td>    \n",
       "</tr>\n",
       "</table>\n",
       "<table class=\"simpletable\">\n",
       "<tr>\n",
       "      <td></td>         <th>coef</th>     <th>std err</th>      <th>t</th>      <th>P>|t|</th>  <th>[0.025</th>    <th>0.975]</th>  \n",
       "</tr>\n",
       "<tr>\n",
       "  <th>Intercept</th> <td>  505.4774</td> <td>    0.240</td> <td> 2101.855</td> <td> 0.000</td> <td>  505.006</td> <td>  505.949</td>\n",
       "</tr>\n",
       "<tr>\n",
       "  <th>AT</th>        <td>   -1.7043</td> <td>    0.013</td> <td> -134.429</td> <td> 0.000</td> <td>   -1.729</td> <td>   -1.679</td>\n",
       "</tr>\n",
       "<tr>\n",
       "  <th>V</th>         <td>   -0.3245</td> <td>    0.007</td> <td>  -43.644</td> <td> 0.000</td> <td>   -0.339</td> <td>   -0.310</td>\n",
       "</tr>\n",
       "</table>\n",
       "<table class=\"simpletable\">\n",
       "<tr>\n",
       "  <th>Omnibus:</th>       <td>526.355</td> <th>  Durbin-Watson:     </th> <td>   2.024</td>\n",
       "</tr>\n",
       "<tr>\n",
       "  <th>Prob(Omnibus):</th> <td> 0.000</td>  <th>  Jarque-Bera (JB):  </th> <td>1786.669</td>\n",
       "</tr>\n",
       "<tr>\n",
       "  <th>Skew:</th>          <td>-0.198</td>  <th>  Prob(JB):          </th> <td>    0.00</td>\n",
       "</tr>\n",
       "<tr>\n",
       "  <th>Kurtosis:</th>      <td> 5.080</td>  <th>  Cond. No.          </th> <td>    282.</td>\n",
       "</tr>\n",
       "</table><br/><br/>Notes:<br/>[1] Standard Errors assume that the covariance matrix of the errors is correctly specified."
      ],
      "text/latex": [
       "\\begin{center}\n",
       "\\begin{tabular}{lclc}\n",
       "\\toprule\n",
       "\\textbf{Dep. Variable:}    &        PE        & \\textbf{  R-squared:         } &     0.916   \\\\\n",
       "\\textbf{Model:}            &       OLS        & \\textbf{  Adj. R-squared:    } &     0.916   \\\\\n",
       "\\textbf{Method:}           &  Least Squares   & \\textbf{  F-statistic:       } & 5.197e+04   \\\\\n",
       "\\textbf{Date:}             & Mon, 27 Oct 2025 & \\textbf{  Prob (F-statistic):} &     0.00    \\\\\n",
       "\\textbf{Time:}             &     08:32:07     & \\textbf{  Log-Likelihood:    } &   -28887.   \\\\\n",
       "\\textbf{No. Observations:} &        9568      & \\textbf{  AIC:               } & 5.778e+04   \\\\\n",
       "\\textbf{Df Residuals:}     &        9565      & \\textbf{  BIC:               } & 5.780e+04   \\\\\n",
       "\\textbf{Df Model:}         &           2      & \\textbf{                     } &             \\\\\n",
       "\\textbf{Covariance Type:}  &    nonrobust     & \\textbf{                     } &             \\\\\n",
       "\\bottomrule\n",
       "\\end{tabular}\n",
       "\\begin{tabular}{lcccccc}\n",
       "                   & \\textbf{coef} & \\textbf{std err} & \\textbf{t} & \\textbf{P$> |$t$|$} & \\textbf{[0.025} & \\textbf{0.975]}  \\\\\n",
       "\\midrule\n",
       "\\textbf{Intercept} &     505.4774  &        0.240     &  2101.855  &         0.000        &      505.006    &      505.949     \\\\\n",
       "\\textbf{AT}        &      -1.7043  &        0.013     &  -134.429  &         0.000        &       -1.729    &       -1.679     \\\\\n",
       "\\textbf{V}         &      -0.3245  &        0.007     &   -43.644  &         0.000        &       -0.339    &       -0.310     \\\\\n",
       "\\bottomrule\n",
       "\\end{tabular}\n",
       "\\begin{tabular}{lclc}\n",
       "\\textbf{Omnibus:}       & 526.355 & \\textbf{  Durbin-Watson:     } &    2.024  \\\\\n",
       "\\textbf{Prob(Omnibus):} &   0.000 & \\textbf{  Jarque-Bera (JB):  } & 1786.669  \\\\\n",
       "\\textbf{Skew:}          &  -0.198 & \\textbf{  Prob(JB):          } &     0.00  \\\\\n",
       "\\textbf{Kurtosis:}      &   5.080 & \\textbf{  Cond. No.          } &     282.  \\\\\n",
       "\\bottomrule\n",
       "\\end{tabular}\n",
       "%\\caption{OLS Regression Results}\n",
       "\\end{center}\n",
       "\n",
       "Notes: \\newline\n",
       " [1] Standard Errors assume that the covariance matrix of the errors is correctly specified."
      ],
      "text/plain": [
       "<class 'statsmodels.iolib.summary.Summary'>\n",
       "\"\"\"\n",
       "                            OLS Regression Results                            \n",
       "==============================================================================\n",
       "Dep. Variable:                     PE   R-squared:                       0.916\n",
       "Model:                            OLS   Adj. R-squared:                  0.916\n",
       "Method:                 Least Squares   F-statistic:                 5.197e+04\n",
       "Date:                Mon, 27 Oct 2025   Prob (F-statistic):               0.00\n",
       "Time:                        08:32:07   Log-Likelihood:                -28887.\n",
       "No. Observations:                9568   AIC:                         5.778e+04\n",
       "Df Residuals:                    9565   BIC:                         5.780e+04\n",
       "Df Model:                           2                                         \n",
       "Covariance Type:            nonrobust                                         \n",
       "==============================================================================\n",
       "                 coef    std err          t      P>|t|      [0.025      0.975]\n",
       "------------------------------------------------------------------------------\n",
       "Intercept    505.4774      0.240   2101.855      0.000     505.006     505.949\n",
       "AT            -1.7043      0.013   -134.429      0.000      -1.729      -1.679\n",
       "V             -0.3245      0.007    -43.644      0.000      -0.339      -0.310\n",
       "==============================================================================\n",
       "Omnibus:                      526.355   Durbin-Watson:                   2.024\n",
       "Prob(Omnibus):                  0.000   Jarque-Bera (JB):             1786.669\n",
       "Skew:                          -0.198   Prob(JB):                         0.00\n",
       "Kurtosis:                       5.080   Cond. No.                         282.\n",
       "==============================================================================\n",
       "\n",
       "Notes:\n",
       "[1] Standard Errors assume that the covariance matrix of the errors is correctly specified.\n",
       "\"\"\""
      ]
     },
     "execution_count": 17,
     "metadata": {},
     "output_type": "execute_result"
    }
   ],
   "source": [
    "# Now we'll look at a summary of the fitted OLS model\n",
    "model_result.summary()"
   ]
  },
  {
   "cell_type": "markdown",
   "id": "c3d3c624",
   "metadata": {},
   "source": [
    "Now let's compare the model parameter estimates from the statsmodels ols function and our explicit ols calculation."
   ]
  },
  {
   "cell_type": "code",
   "execution_count": 18,
   "id": "50554124",
   "metadata": {},
   "outputs": [
    {
     "data": {
      "text/html": [
       "<div>\n",
       "<style scoped>\n",
       "    .dataframe tbody tr th:only-of-type {\n",
       "        vertical-align: middle;\n",
       "    }\n",
       "\n",
       "    .dataframe tbody tr th {\n",
       "        vertical-align: top;\n",
       "    }\n",
       "\n",
       "    .dataframe thead th {\n",
       "        text-align: right;\n",
       "    }\n",
       "</style>\n",
       "<table border=\"1\" class=\"dataframe\">\n",
       "  <thead>\n",
       "    <tr style=\"text-align: right;\">\n",
       "      <th></th>\n",
       "      <th>statsmodels</th>\n",
       "      <th>explicit_ols</th>\n",
       "    </tr>\n",
       "  </thead>\n",
       "  <tbody>\n",
       "    <tr>\n",
       "      <th>Intercept</th>\n",
       "      <td>505.477434</td>\n",
       "      <td>505.477434</td>\n",
       "    </tr>\n",
       "    <tr>\n",
       "      <th>AT</th>\n",
       "      <td>-1.704266</td>\n",
       "      <td>-1.704266</td>\n",
       "    </tr>\n",
       "    <tr>\n",
       "      <th>V</th>\n",
       "      <td>-0.324487</td>\n",
       "      <td>-0.324487</td>\n",
       "    </tr>\n",
       "  </tbody>\n",
       "</table>\n",
       "</div>"
      ],
      "text/plain": [
       "           statsmodels  explicit_ols\n",
       "Intercept   505.477434    505.477434\n",
       "AT           -1.704266     -1.704266\n",
       "V            -0.324487     -0.324487"
      ]
     },
     "execution_count": 18,
     "metadata": {},
     "output_type": "execute_result"
    }
   ],
   "source": [
    "# Now compare the parameter estimates from the explicit calculation with those obtained from the statsmodels fit\n",
    "df_compare = pd.DataFrame({'statsmodels': model_result.params, 'explicit_ols':ols_params})\n",
    "df_compare"
   ]
  },
  {
   "cell_type": "markdown",
   "id": "e6ce9e16",
   "metadata": {},
   "source": [
    "# Simple gradient descent example\n",
    "\n",
    "Here we will use the gradient descent example shown in the slides and also shown in the figure below, which shows 3 values of the parameter $\\beta$ in a simple linear model $y = \\beta x$, that we get from 3 iterations of the gradient descent process. The training data for this example has been simulated (by me) and so we know the true value of $\\beta$ that was used to produce the simulated data. We would expect the estimate of $\\beta$ that minimizes the risk function to be close to the true value. From the figure below you can probably guess that the true value of $\\beta$ used to produce the simulated data is $\\beta=3.5$. \n",
    "\n",
    "<img src=\"GradientDescentExample.png\" width=\"500\">\n",
    "<div style=\"text-align: center;\">\n",
    "<figcaption>Simple gradient descent example.</figcaption>\n",
    "</div>"
   ]
  },
  {
   "cell_type": "markdown",
   "id": "467593b9",
   "metadata": {},
   "source": [
    "To start our simple gradient descent example, we read in the training data, which is held in the file gradient_descent_example.csv of the github repository."
   ]
  },
  {
   "cell_type": "code",
   "execution_count": 19,
   "id": "602787a4",
   "metadata": {},
   "outputs": [],
   "source": [
    "# Read in the raw data\n",
    "df_risk = pd.read_csv(\"./gradient_descent_example.csv\")\n",
    "\n",
    "# Extract the feature and response values to \n",
    "# numpy arrays\n",
    "x=df_risk['x'].to_numpy()\n",
    "y=df_risk['y'].to_numpy()"
   ]
  },
  {
   "cell_type": "markdown",
   "id": "ad5cadd1",
   "metadata": {},
   "source": [
    "We then define two functions. The first function calculates the risk function that we are minimizing to fit the model. In this case we use the squared-loss based risk function that we introduced in the slides.\n",
    "\n",
    "The second function we define is the derivative of the risk function with respect to the (single) model parameter. This function allows us to compute the size of the update (adjustment) to the model parameter after each iteration."
   ]
  },
  {
   "cell_type": "code",
   "execution_count": 20,
   "id": "6b7ebb54",
   "metadata": {},
   "outputs": [],
   "source": [
    "# Define functions for performing gradient descent\n",
    "\n",
    "def risk(x, y, beta):\n",
    "    '''\n",
    "    Function to compute the empirical risk\n",
    "    \n",
    "    :param x: The feature values for our example\n",
    "    :type x: A 1D numpy array\n",
    "    \n",
    "    :param y: The response values for our example\n",
    "    :type y: A 1D numpy array\n",
    "    \n",
    "    :param beta: The model parameter value at which we want to \n",
    "                 evaluate the empirical risk\n",
    "    :type beta: float\n",
    "    \n",
    "    :return: The empirical risk function value\n",
    "    :rtype: float\n",
    "    '''\n",
    "    # Initialize the risk value\n",
    "    risk = 0.0\n",
    "  \n",
    "    # Loop over the data and increment the risk with \n",
    "    # a squared-loss\n",
    "    for i in range(x.shape[0]):\n",
    "        risk += np.power(y[i]-(beta*x[i]), 2.0)\n",
    "        \n",
    "    risk /= x.shape[0]\n",
    "  \n",
    "    return risk\n",
    "\n",
    "\n",
    "def derivative_risk(x, y, beta):\n",
    "    '''\n",
    "    Function to compute the derivative of the empirical risk\n",
    "    with respect to the model parameter\n",
    "    \n",
    "    :param x: The feature values for our example\n",
    "    :type x: A 1D numpy array\n",
    "    \n",
    "    :param y: The response values for our example\n",
    "    :type y: A 1D numpy array\n",
    "    \n",
    "    :param beta: The model parameter value at which we want to \n",
    "                 evaluate the empirical risk\n",
    "    :type beta: float\n",
    "    \n",
    "    :return: The derivative of the empirical risk function\n",
    "    :rtype: float\n",
    "    '''\n",
    "    derivative_risk = 0.0\n",
    "  \n",
    "    for i in range(x.shape[0]):\n",
    "        derivative_risk += - (2.0*x[i]*(y[i]-(beta*x[i])))\n",
    "\n",
    "    derivative_risk /= x.shape[0]\n",
    "    \n",
    "    return derivative_risk   "
   ]
  },
  {
   "cell_type": "markdown",
   "id": "95bddf30",
   "metadata": {},
   "source": [
    "Now we run the gradient descent algorithm for 20 iterations, using a learning rate of $\\eta=0.05$. We will store the value of the parameter estimate at each iteration to show later how the parameter estimate has converged to its final value."
   ]
  },
  {
   "cell_type": "code",
   "execution_count": 21,
   "id": "ffa5b1f0",
   "metadata": {},
   "outputs": [],
   "source": [
    "# Set the learning rate and the number of iterations we want to perform\n",
    "eta=0.05\n",
    "n_iter=20\n",
    "\n",
    "# Initialize arrays to hold the sequence of \n",
    "# parameter estimates and empirical risk values\n",
    "beta_learn=np.full(1+n_iter, np.nan)\n",
    "risk_learn=np.full(1+n_iter, np.nan)\n",
    "\n",
    "# Set the starting estimate for the\n",
    "# model parameter\n",
    "beta_learn[0]=1.0\n",
    "risk_learn[0] = risk(x,y,beta_learn[0])\n",
    "\n",
    "# Iterate using the gradient descent update rule\n",
    "for iter in range(n_iter):\n",
    "    beta_learn[iter+1] = beta_learn[iter]\n",
    "    beta_learn[iter+1] -= (eta*derivative_risk(x,y,beta_learn[iter]))\n",
    "    risk_learn[iter+1] = risk(x,y,beta_learn[iter+1])"
   ]
  },
  {
   "cell_type": "markdown",
   "id": "6942d513",
   "metadata": {},
   "source": [
    "Now we can plot how the model parameter estimate changed as we iterated the gradient descent algorithm"
   ]
  },
  {
   "cell_type": "code",
   "execution_count": 22,
   "id": "93c11f7d",
   "metadata": {},
   "outputs": [
    {
     "data": {
      "image/png": "[encoded data removed]",
      "text/plain": [
       "<Figure size 640x480 with 1 Axes>"
      ]
     },
     "metadata": {},
     "output_type": "display_data"
    }
   ],
   "source": [
    "# Plot parameter estimates at each iteration\n",
    "plt.plot(beta_learn, marker=\"o\")\n",
    "plt.title(r'$\\beta$ estimate vs Iteration', fontsize=24)\n",
    "plt.xlabel('Iteration', fontsize=20)\n",
    "plt.ylabel(r'$\\beta$ estimate', fontsize=20)\n",
    "plt.xticks(fontsize=14)\n",
    "plt.yticks(fontsize=14)\n",
    "plt.show()"
   ]
  },
  {
   "cell_type": "markdown",
   "id": "346c8b26",
   "metadata": {},
   "source": [
    "Let's manually inspect the parameter estimate as we iterated through the gradient descent algorithm"
   ]
  },
  {
   "cell_type": "code",
   "execution_count": 23,
   "id": "750bb5b8",
   "metadata": {},
   "outputs": [
    {
     "data": {
      "text/plain": [
       "array([1.        , 2.06152634, 2.66376678, 3.00543851, 3.19928064,\n",
       "       3.30925395, 3.3716456 , 3.40704253, 3.42712442, 3.43851758,\n",
       "       3.4449813 , 3.4486484 , 3.45072887, 3.45190919, 3.45257882,\n",
       "       3.45295873, 3.45317427, 3.45329655, 3.45336592, 3.45340528,\n",
       "       3.45342761])"
      ]
     },
     "execution_count": 23,
     "metadata": {},
     "output_type": "execute_result"
    }
   ],
   "source": [
    "# Let's look at the parameter estimates\n",
    "beta_learn"
   ]
  },
  {
   "cell_type": "markdown",
   "id": "e75a2a57",
   "metadata": {},
   "source": [
    "The parameter estimate converges to approximately $\\beta \\simeq 3.453$. This is not the same as the true value of the parameter that was used to generate the data because there is noise that I added to the training data.\n",
    "\n",
    "We can also plot how the risk function changed as we iterated the gradient descent algorithm, to see that that converges to a minimum value."
   ]
  },
  {
   "cell_type": "code",
   "execution_count": 24,
   "id": "11e9372b",
   "metadata": {},
   "outputs": [
    {
     "data": {
      "image/png": "[encoded data removed]",
      "text/plain": [
       "<Figure size 640x480 with 1 Axes>"
      ]
     },
     "metadata": {},
     "output_type": "display_data"
    }
   ],
   "source": [
    "# Plot risk function values at each iteration\n",
    "plt.plot(risk_learn, marker=\"o\")\n",
    "plt.title('Risk vs Iteration', fontsize=24)\n",
    "plt.xlabel('Iteration', fontsize=20)\n",
    "plt.ylabel('Risk', fontsize=20)\n",
    "plt.xticks(fontsize=14)\n",
    "plt.yticks(fontsize=14)\n",
    "plt.show()"
   ]
  },
  {
   "cell_type": "code",
   "execution_count": 25,
   "id": "61ed7be8",
   "metadata": {},
   "outputs": [
    {
     "data": {
      "text/plain": [
       "array([29.02667015, 11.36534752,  5.68072681,  3.85102735,  3.26210501,\n",
       "        3.07254955,  3.01153764,  2.99189984,  2.98557906,  2.9835446 ,\n",
       "        2.98288977,  2.982679  ,  2.98261116,  2.98258932,  2.9825823 ,\n",
       "        2.98258003,  2.98257931,  2.98257907,  2.982579  ,  2.98257897,\n",
       "        2.98257896])"
      ]
     },
     "execution_count": 25,
     "metadata": {},
     "output_type": "execute_result"
    }
   ],
   "source": [
    "# Look at the risk function values\n",
    "risk_learn"
   ]
  },
  {
   "cell_type": "markdown",
   "id": "daa246da",
   "metadata": {},
   "source": [
    "## Gradient Descent for Power Plant Dataset\n",
    "\n",
    "As a final exercise to test our understanding of what we have learnt about OLS regression and gradient descent, we'll now use gradient descent to build the linear model for the power plant output to show that we get the same parameter values as we do when we do explicit closed-form OLS regression.\n",
    "\n",
    "This exercise was not covered in the tutorial slides. It is intended as an extra 'guided' exercise for the student. Follow along with the code and text below, or if you are feeling confident attempt it yourself first and then compare your output/answers to what I have given below.\n",
    "\n",
    "### Transforming the model\n",
    "\n",
    "The model we want to build is $PE = \\beta_{0} + \\beta_{AT}AT + \\beta_{V}V$. For simplicity we'll still use a single learning rate $\\eta$ even though we have more than one feature now. However, because the steepness of the risk-function surface may be different in the different feature directions, we'll need to transform the problem first to make it more suitable for using a single learning rate. In this case we will standardize both the response (target) variable $PE$ and the feature variables $AT, V$. To do this we subtract off the mean from each variable and divide by its standard deviation. That is, we create normalied variables as follows,\n",
    "\n",
    "$PE_{norm} = \\frac{PE- m_{PE}}{s_{PE}}\\;\\;\\;\\;,\\;\\; AT_{norm} = \\frac{AT - m_{AT}}{s_{AT}}\\;\\;\\;,\\;\\;V_{norm} = \\frac{V - m_{V}}{s_V}$\n",
    "\n",
    "Here $m_{x}$ is the sample mean of the variable $x$, and $s_{x}$ is the sample standard deviation of the variable $x$.\n",
    "\n",
    "By construction, the new variables $AT_{norm}$, $V_{norm}$ and $PE_{norm}$ all have zero sample mean and sample variance of 1. The new feature variables $AT_{norm}$ and $V_{norm}$ are on the same scale and so it will now be easier to fit a model via gradient descent with a common learning rate using these transformed variables. \n",
    "\n",
    "However, we now have a problem. What we wanted was parameter estimates for a linear model constructed using the variables $PE, AT$, and $V$. What we are about to do is get parameter estimates for a new linear model constructed using the variables $PE_{norm}, AT_{norm}$, and $V_{norm}$. Somehow we need to relate our new model to our original model. We will do that next. \n",
    "\n",
    "### Relating the new model to the original model\n",
    "Now, we can write our original model as,\n",
    "\n",
    "$\\begin{array}{ll}\n",
    "PE & = &\\beta_{0} + \\beta_{AT}AT + \\beta_{V}V \\\\\n",
    "   & = &\\beta_{0} + \\beta_{AT}s_{AT}\\left ( \\frac{AT - m_{AT}}{s_{AT}}\\right ) + \\beta_{AT}m_{AT}\\;+\\;  \\beta_{V}s_{V}\\left ( \\frac{V - m_{V}}{s_V}\\right ) + \\beta_{V}m_{V} \n",
    "\\end{array}$\n",
    "\n",
    "Since we can write $PE = PE_{norm}s_{PE} + m_{PE}$ we can re-arrange the last line of the equation for $PE$ above to write,\n",
    "\n",
    "$\\begin{array}{ll}\n",
    "PE_{norm} & = & \\frac{1}{s_{PE}}\\left [ \\beta_{0} + \\beta_{AT}m_{AT} + \\beta_{V}m_{V} - m_{PE}\\right ] \\;+\\; \\tilde{\\beta}_{AT}AT_{norm}\\;+\\; \\tilde{\\beta}_{V}V_{norm}\\\\\n",
    "& = & \\tilde{\\beta}_{0} \\;+\\; \\tilde{\\beta}_{AT}AT_{norm}\\;+\\; \\tilde{\\beta}_{V}V_{norm}\n",
    "\\end{array}$\n",
    "\n",
    "In the equation above we have introduced two modified parameters $\\tilde{\\beta}_{AT} = \\beta_{AT}\\frac{s_{AT}}{s_{PE}}$ and $\\tilde{\\beta}_{V} = \\beta_{V}\\frac{s_{V}}{s_{PE}}$.\n",
    "\n",
    "Since the new variables $AT_{norm}$, $V_{norm}$ and $PE_{norm}$ all have zero sample mean we don't need any intercept term in a linear model of $PE_{norm}$ when we model in terms of $AT_{norm}$ and $V_{norm}$. Looking at the last equation above, that tells us that we have $\\tilde{\\beta}_{0} = \\beta_{0} + \\beta_{AT}m_{AT} + \\beta_{V}m_{V} - m_{PE} = 0$. \n",
    "\n",
    "So, if we build a linear model $PE_{norm} = \\tilde{\\beta}_{AT}AT_{norm}\\;+\\; \\tilde{\\beta}_{V}V_{norm}$, we can calculate the value of $\\beta_{0}$ in the model $PE = \\beta_{0} + \\beta_{AT}AT\\;+\\; \\beta_{V}V$ through $\\beta_{0} = m_{PE} - \\beta_{AT}m_{AT} - \\beta_{V}m_{V}$. We can also calculate the original parameter values $\\beta_{AT}$ and $\\beta_{V}$ via $\\beta_{AT} = \\tilde{\\beta}_{AT}\\frac{s_{PE}}{s_{AT}}$ and $\\beta_{V} = \\tilde{\\beta}_{V}\\frac{s_{PE}}{s_{V}}$. Combining these relations we have $\\beta_{0} = m_{PE} - \\tilde{\\beta}_{AT}m_{AT}\\frac{s_{PE}}{s_{AT}} - \\tilde{\\beta}_{V}m_{V}\\frac{s_{PE}}{s_{V}}$.\n",
    "\n",
    "We now have all the components in place to relate our new model to our original model. To summarize:\n",
    "\n",
    "1. We fit the model $PE_{norm} = \\tilde{\\beta}_{AT}AT_{norm}\\;+\\; \\tilde{\\beta}_{V}V_{norm}$\n",
    "2. We calculate,\n",
    "\n",
    "    a. $\\beta_{0} = m_{PE} - \\tilde{\\beta}_{AT}m_{AT}\\frac{s_{PE}}{s_{AT}} - \\tilde{\\beta}_{V}m_{V}\\frac{s_{PE}}{s_{V}}$\n",
    "    \n",
    "    b. $\\beta_{AT} = \\tilde{\\beta}_{AT}\\frac{s_{PE}}{s_{AT}}$\n",
    "    \n",
    "    c. $\\beta_{V} = \\tilde{\\beta}_{V}\\frac{s_{PE}}{s_{V}}$"
   ]
  },
  {
   "cell_type": "markdown",
   "id": "5d7444df",
   "metadata": {},
   "source": [
    "### Gradient descent update calculations\n",
    "\n",
    "We need to define Python functions to calculate the empirical risk and its derivatives with respect to model parameters for a generic model of the form $\\hat{\\underline{y}} = \\underline{\\underline{X}}\\,\\underline{\\beta}$. Again, we use a squared-loss loss-function because we are wanting to perform OLS regression (but via gradient descent). We will calculate the empirical risk and its derivatives in terms of the vector of residuals. Specifically, we have,\n",
    "\n",
    "$\\hat{\\underline{y}} = \\underline{\\underline{X}}\\,\\underline{\\beta}$\n",
    "\n",
    "${\\mathrm{Residuals}}\\; \\underline{r} = \\underline{y} - \\underline{\\underline{X}}\\,\\underline{\\beta}$\n",
    "\n",
    "${\\mathrm{Risk}} = \\frac{1}{N}\\underline{r}^{\\top}\\underline{r}$\n",
    "\n",
    "$\\frac{d {\\mathrm{Risk}}}{d\\underline{\\beta}} = -\\frac{2}{N}\\underline{r}^{\\top} \\underline{\\underline{X}}$\n",
    "\n",
    "Since both the risk and its derivative vector can be calculated from the residual vector $\\underline{r}$ we'll write a single Python function that computes both the risk and derivatives. That way we only need to compute the residual vector once. Again, we can do all our vector and matrix calculations using NumPy functions."
   ]
  },
  {
   "cell_type": "code",
   "execution_count": 26,
   "id": "47e7118a",
   "metadata": {},
   "outputs": [],
   "source": [
    "# Define functions for performing gradient descent\n",
    "\n",
    "def ols_risk_and_derivative(X, y, beta):\n",
    "    '''\n",
    "    Function to compute the empirical risk for \n",
    "    a squared-loss function, and its derivative \n",
    "    with respect to the model parameters\n",
    "    \n",
    "    :param X: The feature matrix for our example\n",
    "    :type X: A 2D numpy array\n",
    "    \n",
    "    :param y: The response values for our example\n",
    "    :type y: A 1D numpy array\n",
    "    \n",
    "    :param beta: The model parameter vector at which we want to \n",
    "                 evaluate the empirical risk\n",
    "    :type beta: A 1D numpy array\n",
    "    \n",
    "    :return: The empirical risk function value and its derivative vector\n",
    "    :rtype: A tuple consisting of the risk value and \n",
    "            a 1D numpy array of the derivatives with respect \n",
    "            to the model parameters\n",
    "    '''\n",
    "  \n",
    "    # Calculate the residuals vector\n",
    "    residuals = y - np.matmul(X, beta)\n",
    "\n",
    "    # Calculate the sum of the squared residuals.\n",
    "    # We'll use the numpy inner product function to do this\n",
    "    risk = np.inner(residuals, residuals) \n",
    "    risk /= X.shape[0]\n",
    "    \n",
    "    # Calculate the derivative of the empirical risk with respect\n",
    "    # to the vector of model parameters\n",
    "    risk_derivative = -2.0*np.matmul(residuals, X)/X.shape[0]\n",
    "  \n",
    "    return risk, risk_derivative"
   ]
  },
  {
   "cell_type": "markdown",
   "id": "c3f7843d",
   "metadata": {},
   "source": [
    "We're now ready to perform gradient descent for our power plant dataset. We'll need to read the data in again."
   ]
  },
  {
   "cell_type": "code",
   "execution_count": 27,
   "id": "89ca0aae",
   "metadata": {},
   "outputs": [],
   "source": [
    "# Read in the raw data\n",
    "df = pd.read_csv(\"./power_plant_output.csv\")"
   ]
  },
  {
   "cell_type": "code",
   "execution_count": 28,
   "id": "d150f8af",
   "metadata": {},
   "outputs": [],
   "source": [
    "# We extract the design matrix as a 2D numpy array. This initially corresponds to the feature columns of the dataframe.\n",
    "# In this case it is all but the last column\n",
    "X = df.iloc[:, 0:(df.shape[1]-1)].to_numpy()\n",
    "\n",
    "# Now we'll extract the response vector to a numpy array\n",
    "y = df.iloc[:, df.shape[1]-1].to_numpy()"
   ]
  },
  {
   "cell_type": "markdown",
   "id": "5a9ac988",
   "metadata": {},
   "source": [
    "Now we'll construct the standardized variables. We'll store the sample means and sample standard deviations of the original variables because we'll need them later on"
   ]
  },
  {
   "cell_type": "code",
   "execution_count": 29,
   "id": "5d32b89e",
   "metadata": {},
   "outputs": [],
   "source": [
    "# Calculate sample means\n",
    "mean_y = np.mean(y)\n",
    "mean_X = np.mean(X, axis=0)\n",
    "\n",
    "# Calculate sample standard deviations\n",
    "sd_y = np.std(y)\n",
    "sd_X = np.std(X, axis=0)\n",
    "\n",
    "# Calculate the standardized variables\n",
    "y_norm = (y-mean_y)/sd_y\n",
    "X_norm = (X - mean_X)/sd_X"
   ]
  },
  {
   "cell_type": "markdown",
   "id": "42098db6",
   "metadata": {},
   "source": [
    "Now for the gradient descent loop, applied to the standardized data. We'll use a larger learning rate than before, $\\eta=0.2$, and run the gradient descent algorithm for 400 iterations.\n",
    "\n",
    "We'll also modify the learning rate, so that if the derivative $\\frac{d{\\mathrm Risk}}{d\\underline{\\beta}}$ is too big in magnitude we don't make too big a change to our current estimate of $\\underline{\\beta}$. We do this by normalizing the learning rate by the magnitude of $\\frac{d{\\mathrm Risk}}{d\\underline{\\beta}}$. That is, we'll use an overall learning rate of,\n",
    "\n",
    "$$\\frac{\\eta}{\\left | \\frac{d{\\mathrm Risk}}{d\\underline{\\beta}} \\right |}$$\n",
    "\n",
    "We can use the inner product function to calculate $\\left | \\frac{d{\\mathrm Risk}}{d\\underline{\\beta}} \\right |$.\n",
    "\n",
    "However, now we have the problem that if $\\left | \\frac{d{\\mathrm Risk}}{d\\underline{\\beta}} \\right |$ is small our effective learning rate will be large and will diverge as $\\left | \\frac{d{\\mathrm Risk}}{d\\underline{\\beta}} \\right |$ tends to zero at the minimum of the risk function. So we'll add in a constant into the denominator of our overall learning rate. The overall learning we'll use is,\n",
    "\n",
    "$$\\frac{\\eta}{\\sqrt{ 1 + \\left | \\frac{d{\\mathrm Risk}}{d\\underline{\\beta}} \\right |^{2}}}$$\n"
   ]
  },
  {
   "cell_type": "code",
   "execution_count": 30,
   "id": "c7860ad8",
   "metadata": {},
   "outputs": [],
   "source": [
    "# Set the learning rate and the number of iterations we want to perform\n",
    "eta=0.2\n",
    "n_iter=400\n",
    "\n",
    "# Initialize arrays to hold the sequence of \n",
    "# parameter estimates and empirical risk values.\n",
    "# We'll include a subscript 'pe' in the output \n",
    "# variable names, to disinguish from our other \n",
    "# gradient descent example\n",
    "beta_learn_pe=np.full((1+n_iter, 2), np.nan)\n",
    "risk_learn_pe=np.full(1+n_iter, np.nan)\n",
    "\n",
    "# Set the starting estimate for the\n",
    "# model parameters. We set them both to -1 to start\n",
    "# with because we know from our exploratory plots earlier\n",
    "# that both AT and V have a negative effect on the power plant\n",
    "# output.\n",
    "beta_learn_pe[0] = np.array([-1.0, -1.0])\n",
    "\n",
    "# Calculate the initial risk value\n",
    "risk_learn_pe[0], _ = ols_risk_and_derivative(X=X_norm, y=y_norm, beta=beta_learn_pe[0])\n",
    "\n",
    "# Iterate using the gradient descent update rule\n",
    "for iter in range(n_iter):\n",
    "    beta_learn_pe[iter+1] = beta_learn_pe[iter]\n",
    "    risk, risk_derivative = ols_risk_and_derivative(X=X_norm, y=y_norm, beta=beta_learn_pe[iter+1])\n",
    "    \n",
    "    beta_learn_pe[iter+1] -= eta*risk_derivative / np.sqrt(1.0 + np.inner(risk_derivative, risk_derivative))\n",
    "    risk_learn_pe[iter+1] = risk"
   ]
  },
  {
   "cell_type": "markdown",
   "id": "46259485",
   "metadata": {},
   "source": [
    "Let's look at the trajectory of the risk values we got as we iterated our gradient descent algorithm. This is to check that the risk value did decrease as we iterated and that it approached a stable value, indicating that we have found at least a local minimm of the empirical risk function."
   ]
  },
  {
   "cell_type": "code",
   "execution_count": 31,
   "id": "5b8253bf",
   "metadata": {},
   "outputs": [
    {
     "data": {
      "image/png": "[encoded data removed]",
      "text/plain": [
       "<Figure size 640x480 with 1 Axes>"
      ]
     },
     "metadata": {},
     "output_type": "display_data"
    }
   ],
   "source": [
    "# Plot risk function values at each iteration\n",
    "plt.plot(risk_learn_pe, marker=\"o\")\n",
    "plt.title('Risk vs Iteration', fontsize=24)\n",
    "plt.xlabel('Iteration', fontsize=20)\n",
    "plt.ylabel('Risk', fontsize=20)\n",
    "plt.xticks(fontsize=14)\n",
    "plt.yticks(fontsize=14)\n",
    "plt.show()"
   ]
  },
  {
   "cell_type": "markdown",
   "id": "a480675e",
   "metadata": {},
   "source": [
    "The trajectory of risk values looks pretty good. We have found a minimum of the empirical risk.\n",
    "\n",
    "Now we can look at the parameter estimates we got for our original model form, by using the values of our parameter estimates at the last iteration and by using the transformation formulae we derived a moment ago. We can compare the OLS model parameters we obtained via gradient descent to those we previously obtained from using the statsmodels package and those we obtained from direct calculation."
   ]
  },
  {
   "cell_type": "code",
   "execution_count": 32,
   "id": "ec572bb4",
   "metadata": {},
   "outputs": [],
   "source": [
    "# Calculate the intercept parameter of the original model form\n",
    "intercept_gradient_descent = mean_y - (beta_learn_pe[n_iter, 0]*mean_X[0]*sd_y/sd_X[0]) - (beta_learn_pe[n_iter, 1]*mean_X[1]*sd_y/sd_X[1])\n",
    "\n",
    "# Calculate the AT parameter of the original model form\n",
    "beta_AT_gradient_descent = beta_learn_pe[n_iter, 0]*sd_y/sd_X[0]\n",
    "\n",
    "# Calculate the V parameter of the original model form\n",
    "beta_V_gradient_descent = beta_learn_pe[n_iter, 1]*sd_y/sd_X[1]\n",
    "\n",
    "# Put all the parameters in a single array, for convenience\n",
    "ols_gradient_descent = np.array([intercept_gradient_descent,\n",
    "                                 beta_AT_gradient_descent,\n",
    "                                 beta_V_gradient_descent])"
   ]
  },
  {
   "cell_type": "code",
   "execution_count": 33,
   "id": "6cd0afff",
   "metadata": {},
   "outputs": [
    {
     "data": {
      "text/html": [
       "<div>\n",
       "<style scoped>\n",
       "    .dataframe tbody tr th:only-of-type {\n",
       "        vertical-align: middle;\n",
       "    }\n",
       "\n",
       "    .dataframe tbody tr th {\n",
       "        vertical-align: top;\n",
       "    }\n",
       "\n",
       "    .dataframe thead th {\n",
       "        text-align: right;\n",
       "    }\n",
       "</style>\n",
       "<table border=\"1\" class=\"dataframe\">\n",
       "  <thead>\n",
       "    <tr style=\"text-align: right;\">\n",
       "      <th></th>\n",
       "      <th>statsmodels</th>\n",
       "      <th>explicit_ols</th>\n",
       "      <th>gradient_descent</th>\n",
       "    </tr>\n",
       "  </thead>\n",
       "  <tbody>\n",
       "    <tr>\n",
       "      <th>Intercept</th>\n",
       "      <td>505.477434</td>\n",
       "      <td>505.477434</td>\n",
       "      <td>505.477434</td>\n",
       "    </tr>\n",
       "    <tr>\n",
       "      <th>AT</th>\n",
       "      <td>-1.704266</td>\n",
       "      <td>-1.704266</td>\n",
       "      <td>-1.704266</td>\n",
       "    </tr>\n",
       "    <tr>\n",
       "      <th>V</th>\n",
       "      <td>-0.324487</td>\n",
       "      <td>-0.324487</td>\n",
       "      <td>-0.324487</td>\n",
       "    </tr>\n",
       "  </tbody>\n",
       "</table>\n",
       "</div>"
      ],
      "text/plain": [
       "           statsmodels  explicit_ols  gradient_descent\n",
       "Intercept   505.477434    505.477434        505.477434\n",
       "AT           -1.704266     -1.704266         -1.704266\n",
       "V            -0.324487     -0.324487         -0.324487"
      ]
     },
     "execution_count": 33,
     "metadata": {},
     "output_type": "execute_result"
    }
   ],
   "source": [
    "# Now compare the gradient descent parameter estimates with those from the\n",
    "# explicit calculation and those obtained from the statsmodels fit\n",
    "df_compare2 = pd.DataFrame({'statsmodels':model_result.params,\n",
    "                           'explicit_ols':ols_params,\n",
    "                           'gradient_descent':ols_gradient_descent})\n",
    "df_compare2"
   ]
  },
  {
   "cell_type": "markdown",
   "id": "430d8cab",
   "metadata": {},
   "source": [
    "You can see that we get the same model parameter estimates from the gradient descent algorithm as we do when we use direct closed-form calculation (either from our own code or from the statsmodels package). However, the advantage of gradient descent is we can apply the principle to any loss function. We simply change the code in the functions that calculate the risk and its derivatives. "
   ]
  },
  {
   "cell_type": "code",
   "execution_count": null,
   "id": "aad19264-78fc-466f-872d-2428caed3689",
   "metadata": {},
   "outputs": [],
   "source": []
  }
 ],
 "metadata": {
  "kernelspec": {
   "display_name": "Python [conda env:base] *",
   "language": "python",
   "name": "conda-base-py"
  },
  "language_info": {
   "codemirror_mode": {
    "name": "ipython",
    "version": 3
   },
   "file_extension": ".py",
   "mimetype": "text/x-python",
   "name": "python",
   "nbconvert_exporter": "python",
   "pygments_lexer": "ipython3",
   "version": "3.12.7"
  }
 },
 "nbformat": 4,
 "nbformat_minor": 5
}
